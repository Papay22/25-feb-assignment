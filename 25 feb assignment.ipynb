{
 "cells": [
  {
   "cell_type": "code",
   "execution_count": null,
   "id": "bc3c500d-f272-4fb3-b3d2-68f8c331c267",
   "metadata": {},
   "outputs": [],
   "source": [
    "print(df.iloc1)"
   ]
  },
  {
   "cell_type": "code",
   "execution_count": null,
   "id": "f0bef046-d641-48c6-9edb-e0a4bb8f1c68",
   "metadata": {},
   "outputs": [],
   "source": [
    "The loc function is used to access a group of rows and columns by label(s) or a boolean array. The iloc function is used to access a group of rows and columns by integer position(s)."
   ]
  },
  {
   "cell_type": "code",
   "execution_count": null,
   "id": "67a07577-cef5-461e-ac3e-714a16db5e57",
   "metadata": {},
   "outputs": [],
   "source": [
    "#Reindexing the dataframe:\n",
    "\n",
    "new_df = df1.reindex(3,0,1,2)\n",
    "\n",
    "\n",
    "#Output for new_df.loc2:\n",
    "\n",
    "0.879097\n",
    "\n",
    "\n",
    "#Output for new_df.iloc2:\n",
    "\n",
    "0.466874\n",
    "\n",
    "\n",
    "Yes, there is a difference in both the outputs. new_df.loc2 gives the value at the index position 2 (which is 3 in this case) while new_df.iloc2 gives the value at the row position 2 (which is 0 in this case).\n",
    "\n"
   ]
  },
  {
   "cell_type": "code",
   "execution_count": null,
   "id": "748c38d9-0f98-45f3-9d5e-951a41deff74",
   "metadata": {},
   "outputs": [],
   "source": [
    "(i) Mean of each and every column present in the dataframe\n",
    "\n",
    "\n",
    "print(df1.mean())\n",
    "\n",
    "\n",
    "(ii) Standard deviation of column, ‘column_2’print(df1'column_2'.std())"
   ]
  },
  {
   "cell_type": "code",
   "execution_count": null,
   "id": "0395ac32-a99b-4ef8-a1c6-3186495fe747",
   "metadata": {},
   "outputs": [],
   "source": [
    "Code:\n",
    "\n",
    "df1.loc[1, 'column_2'] = 'string'\n",
    "\n",
    "mean_column2 = df1['column_2'].mean()\n",
    "\n",
    "\n",
    "If an error is encountered, it is likely due to the data in column_2 not being numerical. In this case, the mean cannot be calculated and an error will be thrown."
   ]
  },
  {
   "cell_type": "code",
   "execution_count": null,
   "id": "f968e4d0-25c3-483e-84ba-30574b39b303",
   "metadata": {},
   "outputs": [],
   "source": [
    "Windows functions are used to perform rolling calculations on a set of data. They allow the user to apply an aggregate function to a window of data, such as a range of dates or a set of rows. The types of windows functions include:\n",
    "\n",
    "\n",
    "Rolling: Calculates the value of an aggregate function over a specified window size.\n",
    "Expanding: Calculates the value of an aggregate function over an expanding window size.\n",
    "Ewm: Calculates the value of an exponential weighted function over a specified window size.\n",
    "Rank: Calculates the rank of each row within a window.\n",
    "Lag/Lead: Calculates the difference between the current row and the previous/next row within a window."
   ]
  },
  {
   "cell_type": "code",
   "execution_count": null,
   "id": "0c71c1a1-fe58-4cbe-8308-69faa26f41f0",
   "metadata": {},
   "outputs": [],
   "source": [
    "import pandas as pd\n",
    "\n",
    "\n",
    "print(pd.datetime.now().strftime('%B %Y'))\n",
    "\n"
   ]
  },
  {
   "cell_type": "code",
   "execution_count": null,
   "id": "df4edf86-b40e-42d9-97d6-1f0350966ecb",
   "metadata": {},
   "outputs": [],
   "source": [
    "import pandas as pd\n",
    "\n",
    "\n",
    "Prompt the user to enter two dates\n",
    "\n",
    "\n",
    "date1 = input(\"Enter the first date (YYYY-MM-DD): \")\n",
    "\n",
    "date2 = input(\"Enter the second date (YYYY-MM-DD): \")\n",
    "\n",
    "\n",
    "Convert the dates to datetime objects\n",
    "\n",
    "\n",
    "date1_dt = pd.to_datetime(date1)\n",
    "\n",
    "date2_dt = pd.to_datetime(date2)\n",
    "\n",
    "\n",
    "Calculate the time delta between the two dates\n",
    "\n",
    "\n",
    "delta = date2_dt - date1_dt\n",
    "\n",
    "\n",
    "Print the time delta in days, hours, and minutesprint(\"The difference between the two dates is:\")\n",
    "\n",
    "print(\"{} days\".format(delta.days))\n",
    "\n",
    "print(\"{} hours\".format(delta.seconds//3600))\n",
    "\n",
    "print(\"{} minutes\".format(delta.seconds//60))"
   ]
  },
  {
   "cell_type": "code",
   "execution_count": null,
   "id": "8889d39d-22a4-45e3-8359-f4d4ccc56456",
   "metadata": {},
   "outputs": [],
   "source": [
    "import csv\n",
    "\n",
    "\n",
    "Prompt user for file path\n",
    "\n",
    "\n",
    "file_path = input(\"Please enter the file path: \")\n",
    "\n",
    "\n",
    "Prompt user for column name\n",
    "\n",
    "\n",
    "column_name = input(\"Please enter the column name: \")\n",
    "\n",
    "\n",
    "Prompt user for category order\n",
    "\n",
    "\n",
    "category_order = input(\"Please enter the category order (separated by commas): \")\n",
    "\n",
    "\n",
    "Create list from category order string\n",
    "\n",
    "\n",
    "category_order = category_order.split(',')\n",
    "\n",
    "\n",
    "Open CSV file and read data into list of dictionaries\n",
    "\n",
    "\n",
    "with open(file_path, 'r') as csvfile"
   ]
  },
  {
   "cell_type": "code",
   "execution_count": null,
   "id": "dab54a3d-a003-4b89-98c9-5096edcb249d",
   "metadata": {},
   "outputs": [],
   "source": [
    "import pandas as pd\n",
    "\n",
    "import matplotlib.pyplot as plt\n",
    "\n",
    "\n",
    "Prompt user to enter file path\n",
    "\n",
    "\n",
    "file_path = input(\"Enter the file path: \")\n",
    "\n",
    "\n",
    "Read CSV file into a dataframe\n",
    "\n",
    "\n",
    "df = pd.read_csv(file_path)\n",
    "\n",
    "\n",
    "Create a stacked bar chartdf.plot(kind='bar', stacked=True)\n",
    "\n",
    "plt.title('Sales of each product category over time')\n",
    "\n",
    "plt.xlabel('Time')\n",
    "\n",
    "plt.ylabel('Sales')\n",
    "\n",
    "plt.show()"
   ]
  },
  {
   "cell_type": "code",
   "execution_count": null,
   "id": "bcdccd49-e946-4531-b272-727937f153cc",
   "metadata": {},
   "outputs": [],
   "source": [
    "import csv\n",
    "\n",
    "import statistics\n",
    "\n",
    "\n",
    "Read the CSV file\n",
    "\n",
    "\n",
    "with open('student_data.csv', 'r') as csv_file:\n",
    "\n",
    "csv_reader = csv.reader(csv_file)"
   ]
  }
 ],
 "metadata": {
  "kernelspec": {
   "display_name": "Python 3 (ipykernel)",
   "language": "python",
   "name": "python3"
  },
  "language_info": {
   "codemirror_mode": {
    "name": "ipython",
    "version": 3
   },
   "file_extension": ".py",
   "mimetype": "text/x-python",
   "name": "python",
   "nbconvert_exporter": "python",
   "pygments_lexer": "ipython3",
   "version": "3.10.8"
  }
 },
 "nbformat": 4,
 "nbformat_minor": 5
}
